{
 "cells": [
  {
   "cell_type": "code",
   "execution_count": 1,
   "id": "f7bb8a16",
   "metadata": {},
   "outputs": [],
   "source": [
    "import torch\n",
    "import torch.nn as nn\n",
    "import torch.functional as F\n",
    "import numpy"
   ]
  },
  {
   "cell_type": "code",
   "execution_count": 2,
   "id": "947718fb",
   "metadata": {},
   "outputs": [
    {
     "data": {
      "text/plain": [
       "odict_keys(['fc1.weight', 'fc1.bias', 'fc2.weight', 'fc2.bias'])"
      ]
     },
     "execution_count": 2,
     "metadata": {},
     "output_type": "execute_result"
    }
   ],
   "source": [
    "state_dict = torch.load(\"../models/simple_nn_model.pth\")\n",
    "state_dict.keys()"
   ]
  },
  {
   "cell_type": "code",
   "execution_count": 3,
   "id": "f902a908",
   "metadata": {},
   "outputs": [
    {
     "name": "stdout",
     "output_type": "stream",
     "text": [
      "Layer 1 shape before flattening: (10, 800), (10,)\n",
      "Layer 1 shape after flattening: (8000,), (10,)\n",
      "Layer 2 shape before flattening: (3, 10), (3,)\n",
      "Layer 2 shape after flattening: (30,), (3,)\n"
     ]
    }
   ],
   "source": [
    "layer_1_weights = state_dict[\"fc1.weight\"].numpy()\n",
    "layer_1_bias = state_dict[\"fc1.bias\"].numpy()\n",
    "print(f\"Layer 1 shape before flattening: {layer_1_weights.shape}, {layer_1_bias.shape}\")\n",
    "layer_1_weights = layer_1_weights.flatten()\n",
    "print(f\"Layer 1 shape after flattening: {layer_1_weights.shape}, {layer_1_bias.shape}\")\n",
    "\n",
    "layer_2_weights = state_dict[\"fc2.weight\"].numpy()\n",
    "layer_2_bias = state_dict[\"fc2.bias\"].numpy()\n",
    "print(f\"Layer 2 shape before flattening: {layer_2_weights.shape}, {layer_2_bias.shape}\")\n",
    "layer_2_weights = layer_2_weights.flatten()\n",
    "print(f\"Layer 2 shape after flattening: {layer_2_weights.shape}, {layer_2_bias.shape}\")"
   ]
  },
  {
   "cell_type": "code",
   "execution_count": 4,
   "id": "377d5d3c",
   "metadata": {},
   "outputs": [],
   "source": [
    "with open(\"../arduino/Gesture Detection/src/state_dict.h\", \"w\") as f:\n",
    "    f.write(\n",
    "        f\"const float layer_1_weights[] = {{ {', '.join(map(str, layer_1_weights))} }};\\n\"\n",
    "    )\n",
    "    f.write(\n",
    "        f\"const float layer_1_bias[] = {{ {', '.join(map(str, layer_1_bias))} }};\\n\"\n",
    "    )\n",
    "    f.write(\n",
    "        f\"const float layer_2_weights[] = {{ {', '.join(map(str, layer_2_weights))} }};\\n\"\n",
    "    )\n",
    "    f.write(\n",
    "        f\"const float layer_2_bias[] = {{ {', '.join(map(str, layer_2_bias))} }};\\n\"\n",
    "    )"
   ]
  }
 ],
 "metadata": {
  "kernelspec": {
   "display_name": ".venv",
   "language": "python",
   "name": "python3"
  },
  "language_info": {
   "codemirror_mode": {
    "name": "ipython",
    "version": 3
   },
   "file_extension": ".py",
   "mimetype": "text/x-python",
   "name": "python",
   "nbconvert_exporter": "python",
   "pygments_lexer": "ipython3",
   "version": "3.10.17"
  }
 },
 "nbformat": 4,
 "nbformat_minor": 5
}
